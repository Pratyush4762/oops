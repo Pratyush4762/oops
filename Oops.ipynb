{
  "nbformat": 4,
  "nbformat_minor": 0,
  "metadata": {
    "colab": {
      "provenance": []
    },
    "kernelspec": {
      "name": "python3",
      "display_name": "Python 3"
    },
    "language_info": {
      "name": "python"
    }
  },
  "cells": [
    {
      "cell_type": "markdown",
      "source": [
        "1-What is Object-Oriented Programming (OOP)?\n",
        "\n",
        " -  Oops is an object oriented programming that uses \"object\" to design software.\n",
        "\n",
        "\n",
        " 2- What is a class in OOP?\n",
        "\n",
        "  -  Classes are blueprint for creatinfan object.\n",
        "\n",
        "\n",
        " 3-What is an object in OOP?\n",
        "\n",
        "  -  An object in Object-Oriented Programming (OOP) is a self-contained unit that consists of both data and the functions that operate on that data.\n",
        "\n",
        "\n",
        " 4-What is the difference between abstraction and encapsulation?\n",
        "\n",
        "  -  Abstraction and encapsulation are both fundamental concepts in Object-Oriented Programming (OOP), but they serve different purposes\n",
        "\n",
        "\n",
        " 5-What are dunder methods in Python?\n",
        "\n",
        "  -  Dunder methods, short for \"double underscore methods,\" are special methods in Python that have names starting and ending with double underscores (e.g., '__init__', `__str__'.  \n",
        "\n",
        "\n",
        " 6-Explain the concept of inheritance in OOP.\n",
        "\n",
        "  -  Inheritance is a fundamental concept in Object-Oriented Programming (OOP) that allows a new class, known as a derived or child class, to inherit attributes and methods from an existing class, called a base or parent class. This promotes code reuse and establishes a hierarchical relationship between classes.\n",
        "\n",
        "\n",
        "7-What is polymorphism in OOP?\n",
        "\n",
        " -  Polymorphism is a powerful feature in OOP that allows for flexibility and reusability in code. It lets you use a unified interface to interact with different types of objects, making your programs more dynamic and easier to manage.\n",
        "\n",
        "\n",
        "8-How is encapsulation achieved in Python?\n",
        "\n",
        " -  Encapsulation in Python is achieved through the use of classes, access modifiers (public, protected, and private), and getter/setter methods. This helps in protecting the internal state of an object and promotes a clear interface for interacting with that object.\n",
        "\n",
        "\n",
        "9-What is a constructor in Python?\n",
        "\n",
        " -  Constructors are a fundamental aspect of class design in Python, allowing for the proper setup of objects when they are created.\n",
        "\n",
        "\n",
        "10-What are class and static methods in Python?\n",
        "\n",
        " -   Class Methods: Use @classmethod, take cls` as the first parameter, and can access and modify class state. Static Methods: Use @staticmethod, do not take `self` or `cls` as parameters, and do not access or modify class or instance state.\n",
        "\n",
        "\n",
        "11-What is method overloading in Python?\n",
        "\n",
        " -   Python does not support traditional method overloading, you can achieve similar functionality using default parameters and variable-length arguments\n",
        "\n",
        "\n",
        "12-What is method overriding in OOP?\n",
        "\n",
        " -  Method overriding allows subclasses to provide specific implementations for methods defined in their superclasses, enabling polymorphism and enhancing code flexibility.\n",
        "\n",
        "\n",
        "13-What is a property decorator in Python?\n",
        "\n",
        " -  Property decorators in Python provide a powerful way to manage attribute access and encapsulate logic related to getting and setting values. They enhance code readability and maintainability.\n",
        "\n",
        "\n",
        "14-Why is polymorphism important in OOP?\n",
        "\n",
        " -   Polymorphism is vital in OOP because it enhances code reusability, flexibility, and maintainability, while also promoting better design practices\n",
        "\n",
        "\n",
        "15-What is an abstract class in Python?\n",
        "\n",
        " -  Abstract classes are useful for defining a common interface and enforcing certain behaviors in subclasses, which helps in maintaining a clean and organized code structure.\n",
        "\n",
        "\n",
        "16-What are the advantages of OOP?\n",
        "\n",
        " -  Object-Oriented Programming (OOP) offers several advantages that can enhance the design and development of software\n",
        "\n",
        "\n",
        " 17-What is the difference between a class variable and an instance variable?\n",
        "\n",
        "  -  class variables are shared across all instances and are used for common properties, while instance variables are unique to each instance and are used for properties that can vary between objects.\n",
        "\n",
        "\n",
        "18- What is multiple inheritance in Python?\n",
        "\n",
        " - multiple inheritance is a powerful feature in Python that allows a class to inherit from multiple parent classes, but it requires careful design to avoid complications.\n",
        "\n",
        "\n",
        " 19-Explain the purpose of ‘’__str__’ and ‘__repr__’ ‘ methods in Python?\n",
        "\n",
        "  -  '__str__' is for user-friendly output, while '__repr__' is for detailed and unambiguous output that can help in debugging.\n",
        "\n",
        "\n",
        " 20-What is the significance of the ‘super()’ function in Python?\n",
        "\n",
        "  -  'super()' is a powerful tool in Python's object-oriented programming that promotes code reuse and helps manage class hierarchies more effectively.\n",
        "\n",
        "\n",
        " 21-What is the significance of the __del__ method in Python?\n",
        "\n",
        "  -  `__del__' method is significant for managing resource cleanup in Python, but it should be used with caution, especially in the context of circular references\n",
        "\n",
        "  22- What is the difference between @staticmethod and @classmethod in Python?\n",
        "\n",
        "   -  , use `@staticmethod` for methods that don’t need class or instance data, and use `@classmethod` for methods that need to access or modify the class itself.\n",
        "\n",
        "\n",
        "23- How does polymorphism work in Python with inheritance?\n",
        "\n",
        " -  This demonstrates polymorphism because you can use the same interface (`speak()`) for different types of objects (dogs and cats), and each type provides its own behavior.\n",
        "\n",
        "\n",
        "24-What is method chaining in Python OOP?\n",
        "\n",
        " -  Method chaining can make your code cleaner and easier to read, especially when performing multiple operations on the same object.\n",
        "\n",
        "\n",
        "25-What is the purpose of the __call__ method in Python?\n",
        "\n",
        " -  \n",
        "This feature can be particularly useful in scenarios like creating decorators, implementing callbacks, or building complex data processing pipelines."
      ],
      "metadata": {
        "id": "nMHcVkxma739"
      }
    },
    {
      "cell_type": "code",
      "execution_count": 2,
      "metadata": {
        "colab": {
          "base_uri": "https://localhost:8080/"
        },
        "id": "XHn0dw6Ca0Kk",
        "outputId": "801a6ad9-b24d-4a5d-96ca-af351d65fe54"
      },
      "outputs": [
        {
          "output_type": "stream",
          "name": "stdout",
          "text": [
            "Bark!\n"
          ]
        }
      ],
      "source": [
        "#1-Create a parent class Animal with a method speak() that prints a generic message. Create a child class Dog that overrides the speak() method to print \"Bark!\".\n",
        "class Animal:\n",
        "    def speak(self):\n",
        "        print(\"Generic animal sound\")\n",
        "\n",
        "class Dog(Animal):\n",
        "    def speak(self):\n",
        "        print(\"Bark!\")\n",
        "\n",
        "dog = Dog()\n",
        "dog.speak()"
      ]
    },
    {
      "cell_type": "code",
      "source": [
        "#2-Write a program to create an abstract class Shape with a method area(). Derive classes Circle and Rectangle from it and implement the area() method in both.\n",
        "class Shape:\n",
        "    def area(self):\n",
        "        pass\n",
        ""
      ],
      "metadata": {
        "id": "xY52dRcbifu_"
      },
      "execution_count": 3,
      "outputs": []
    },
    {
      "cell_type": "code",
      "source": [
        "#3-Implement a multi-level inheritance scenario where a class Vehicle has an attribute type. Derive a class Car and further derive a class ElectricCar that adds a battery attribute\n",
        "class Vehicle:\n",
        "    def __init__(self, type):\n",
        "        self.type = type\n",
        "\n",
        "\n"
      ],
      "metadata": {
        "id": "-bk-jh1li2jp"
      },
      "execution_count": 5,
      "outputs": []
    },
    {
      "cell_type": "code",
      "source": [
        "#4-Implement a multi-level inheritance scenario where a class Vehicle has an attribute type. Derive a class Car and further derive a class ElectricCar that adds a battery attribute.\n",
        "class Vehicle:\n",
        "    def __init__(self, type):\n",
        "        self.type = type\n",
        "        print(self.type)\n",
        "        print(type)"
      ],
      "metadata": {
        "id": "-LDGnHCHi_LN"
      },
      "execution_count": 7,
      "outputs": []
    },
    {
      "cell_type": "code",
      "source": [
        "#5- Write a program to demonstrate encapsulation by creating a class BankAccount with private attributes balance and methods to deposit, withdraw, and check balance\n",
        "class BankAccount:\n",
        "    def __init__(self, balance):\n",
        "        self.__balance = balance\n",
        "        def deposit(self, amount):\n",
        "        self.__balance += amount\n",
        "        def withdraw(self, amount):\n",
        "        if amount <= self.__balance:\n",
        "            self.__balance -= amount\n",
        "        else:\n",
        "            print(\"Insufficient balance\")\n",
        "        def check_balance(self):\n",
        "        return self.__balance"
      ],
      "metadata": {
        "colab": {
          "base_uri": "https://localhost:8080/",
          "height": 106
        },
        "id": "MjJwDMwDjNZd",
        "outputId": "727f37d3-119a-40c7-d31c-713da98950a7"
      },
      "execution_count": 8,
      "outputs": [
        {
          "output_type": "error",
          "ename": "IndentationError",
          "evalue": "expected an indented block after function definition on line 5 (<ipython-input-8-70065c66bc48>, line 6)",
          "traceback": [
            "\u001b[0;36m  File \u001b[0;32m\"<ipython-input-8-70065c66bc48>\"\u001b[0;36m, line \u001b[0;32m6\u001b[0m\n\u001b[0;31m    self.__balance += amount\u001b[0m\n\u001b[0m    ^\u001b[0m\n\u001b[0;31mIndentationError\u001b[0m\u001b[0;31m:\u001b[0m expected an indented block after function definition on line 5\n"
          ]
        }
      ]
    },
    {
      "cell_type": "code",
      "source": [
        "#6-Demonstrate runtime polymorphism using a method play() in a base class Instrument. Derive classes Guitar and Piano that implement their own version of play().\n",
        "class Instrument:\n",
        "    def play(self):\n",
        "        print(\"Generic instrument sound\")\n",
        "\n",
        "class Guitar(Instrument):\n",
        "    def play(self):\n",
        "        print(\"Guitar sound\")\n",
        "\n",
        "class Piano(Instrument):\n",
        "    def play(self):\n",
        "        print(\"Piano sound\")"
      ],
      "metadata": {
        "id": "WKX7UhTQjpZ9"
      },
      "execution_count": 9,
      "outputs": []
    },
    {
      "cell_type": "code",
      "source": [
        "#7-Create a class MathOperations with a class method add_numbers() to add two numbers and a static method subtract_numbers() to subtract two numbers.\n",
        "class MathOperations:\n",
        "    @classmethod\n",
        "    def add_numbers(cls, a, b):\n",
        "        return a + b\n",
        "\n",
        "    @staticmethod\n",
        "    def subtract_numbers(a, b):\n",
        "        return a - b"
      ],
      "metadata": {
        "id": "iziirn4AjwcF"
      },
      "execution_count": 10,
      "outputs": []
    },
    {
      "cell_type": "code",
      "source": [
        "#8- Implement a class Person with a class method to count the total number of persons created\n",
        "class Person:\n",
        "    count = 0\n",
        "\n",
        "    def __init__(self):\n",
        "        Person.count += 1\n",
        "\n",
        "    @classmethod\n",
        "    def get_count(cls):\n",
        "        return cls.count\n",
        ""
      ],
      "metadata": {
        "id": "hyX29D5qj6A1"
      },
      "execution_count": 12,
      "outputs": []
    },
    {
      "cell_type": "code",
      "source": [
        "#9-Write a class Fraction with attributes numerator and denominator. Override the str method to display the fraction as \"numerator/denominator\".\n",
        "class Fraction:\n",
        "    def __init__(self, numerator, denominator):\n",
        "        self.numerator = numerator\n",
        "        self.denominator = denominator\n",
        "\n",
        "    def __str__(self):\n",
        "        return f\"{self.numerator}/{self.denominator}\"\n"
      ],
      "metadata": {
        "id": "g1lpSjTAj-29"
      },
      "execution_count": 23,
      "outputs": []
    },
    {
      "cell_type": "code",
      "source": [
        "#10-Demonstrate operator overloading by creating a class Vector and overriding the add method to add two vectors.\n",
        "class Vector:\n",
        "    def __init__(self, x, y):\n",
        "        self.x = x\n",
        "        self.y = y\n",
        "\n",
        "    def __add__(self, other):\n",
        "        return Vector(self.x + other.x, self.y + other.y)"
      ],
      "metadata": {
        "id": "dwjebfzNkO5N"
      },
      "execution_count": 14,
      "outputs": []
    },
    {
      "cell_type": "code",
      "source": [
        "#11-Create a class Person with attributes name and age. Add a method greet() that prints \"Hello, my name is {name} and I am {age} years old.\n",
        "class Person:"
      ],
      "metadata": {
        "colab": {
          "base_uri": "https://localhost:8080/",
          "height": 106
        },
        "id": "FoWFjVuVkU7c",
        "outputId": "52fb17e7-5a76-487a-906f-3dd3ba88c60e"
      },
      "execution_count": 15,
      "outputs": [
        {
          "output_type": "error",
          "ename": "SyntaxError",
          "evalue": "incomplete input (<ipython-input-15-13c8d6e688b2>, line 2)",
          "traceback": [
            "\u001b[0;36m  File \u001b[0;32m\"<ipython-input-15-13c8d6e688b2>\"\u001b[0;36m, line \u001b[0;32m2\u001b[0m\n\u001b[0;31m    class Person:\u001b[0m\n\u001b[0m                 ^\u001b[0m\n\u001b[0;31mSyntaxError\u001b[0m\u001b[0;31m:\u001b[0m incomplete input\n"
          ]
        }
      ]
    },
    {
      "cell_type": "code",
      "source": [
        "#12-Implement a class Student with attributes name and grades. Create a method average_grade() to compute the average of the grades.\n",
        "class Student:\n",
        "    def __init__(self, name, grades):\n",
        "        self.name = name\n",
        "        self.grades = grades\n",
        "\n",
        "    def average_grade(self):\n",
        "        return sum(self.grades) / len(self.grades)"
      ],
      "metadata": {
        "id": "qUZn8GnYkfk8"
      },
      "execution_count": 16,
      "outputs": []
    },
    {
      "cell_type": "code",
      "source": [
        "#13- Create a class Rectangle with methods set_dimensions() to set the dimensions and area() to calculate the area.\n",
        "class Rectangle:\n",
        "    def __init__(self):\n",
        "        self.length = 0\n",
        "        self.width = 0\n",
        "\n",
        "    def set_dimensions(self, length, width):\n",
        "        self.length = length\n",
        "        self.width = width\n",
        "\n",
        "    def area(self):\n",
        "        return self.length * self.width\n",
        ""
      ],
      "metadata": {
        "id": "YRHRvI35kpX0"
      },
      "execution_count": 17,
      "outputs": []
    },
    {
      "cell_type": "code",
      "source": [
        "#14- Create a class Employee with a method calculate_salary() that computes the salary based on hours worked and hourly rate. Create a derived class Manager that adds a bonus to the salary\n",
        "class Employee:\n",
        "    def __init__(self, name, hours_worked, hourly_rate):\n",
        "        self.name = name\n",
        "        self.hours_worked = hours_worked\n",
        "        self.hourly_rate = hourly_rate\n",
        "\n",
        "    def calculate_salary(self):\n",
        "        return self.hours_worked * self.hourly_rate\n",
        ""
      ],
      "metadata": {
        "id": "oJ5XeDijk0N0"
      },
      "execution_count": 18,
      "outputs": []
    },
    {
      "cell_type": "code",
      "source": [
        "#15-Create a class Product with attributes name, price, and quantity. Implement a method total_price() that calculates the total price of the product.\n",
        "class Product:\n",
        "    def __init__(self, name, price, quantity):\n",
        "        self.name = name\n",
        "        self.price = price\n",
        "        self.quantity = quantity\n",
        "\n",
        "    def total_price(self):\n",
        "        return self.price * self.quantity"
      ],
      "metadata": {
        "id": "wCPfZKqqk8jU"
      },
      "execution_count": 19,
      "outputs": []
    },
    {
      "cell_type": "code",
      "source": [
        "#16-Create a class Animal with an abstract method sound(). Create two derived classes Cow and Sheep that implement the sound() method.\n",
        "class Animal:\n",
        "    def sound(self):\n",
        "        pass\n",
        "\n",
        "class Cow(Animal):\n",
        "    def sound(self):\n",
        "        print(\"Moo!\")\n",
        "\n",
        "class Sheep(Animal):\n",
        "    def sound(self):\n",
        "        print(\"Baa!\")"
      ],
      "metadata": {
        "id": "A8XaAcrRlCyc"
      },
      "execution_count": 20,
      "outputs": []
    },
    {
      "cell_type": "code",
      "source": [
        "#17-Create a class Book with attributes title, author, and year_published. Add a method get_book_info() that returns a formatted string with the book's details.\n",
        "class Book:\n",
        "    def __init__(self, title, author, year_published):\n",
        "        self.title = title\n",
        "        self.author = author\n",
        "        self.year_published = year"
      ],
      "metadata": {
        "id": "qPfiobwnlKz0"
      },
      "execution_count": 21,
      "outputs": []
    },
    {
      "cell_type": "code",
      "source": [
        "#18-Create a class House with attributes address and price. Create a derived class Mansion that adds an attribute number_of_rooms.\n",
        "class House:\n",
        "    def __init__(self, address, price):\n",
        "        self.address = address\n",
        "        self.price = price"
      ],
      "metadata": {
        "id": "g2Lun8tulR8U"
      },
      "execution_count": 22,
      "outputs": []
    },
    {
      "cell_type": "code",
      "source": [],
      "metadata": {
        "id": "9RLRIYyUlYI0"
      },
      "execution_count": null,
      "outputs": []
    }
  ]
}